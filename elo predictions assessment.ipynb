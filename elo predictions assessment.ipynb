{
 "cells": [
  {
   "cell_type": "raw",
   "id": "bea31781",
   "metadata": {},
   "source": [
    "# I was inspired by Joshua Bull's video \"A Mathematician's Guide to the World Cup\" posted on the Oxford Mathematics YouTube channel. Joshua Bull is a mathematical modeller and the winner of the 2020 Fantasy Football competition with over 8 million entrants. In his video, he shows an idea to build a model to predict the World Cup winner. Joshua focuses on xG (expected goals) but recognizes that the approach may be biased and proposes to extend the model with the Elo rating from World Football Elo Ratings.\n",
    "\n",
    "The World Football Elo Ratings are based on the Elo rating system created by Dr. Arpad Elo. This system, used by FIDE (the international chess federation), ranks chess players. Eloratings.net applies the Elo rating system to international football, taking into account the type of match, home team advantage, and goal difference in the result. After about 30 matches, the ratings tend to reflect a team's true strength compared to its opponents. Ratings for teams with fewer than 30 matches should be considered provisional.\n",
    "\n",
    "The ratings are based on the following formulas:\n",
    "\n",
    "Rn = Ro + K × (W - We)\n",
    "\n",
    "Rn is the new rating, Ro is the old (pre-match) rating.\n",
    "\n",
    "K is the weight constant for the tournament played:\n",
    "•\t60 for World Cup finals;\n",
    "•\t50 for continental championship finals and major intercontinental tournaments;\n",
    "•\t40 for World Cup and continental qualifiers and major tournaments;\n",
    "•\t30 for all other tournaments;\n",
    "•\t20 for friendly matches.\n",
    "\n",
    "K is then adjusted for the goal difference in the game. It is increased by half if a game is won by two goals, by 3/4 if a game is won by three goals, and by 3/4 + (N-3)/8 if the game is won by four or more goals, where N is the goal difference.\n",
    "\n",
    "W is the result of the game (1 for a win, 0.5 for a draw, and 0 for a loss).\n",
    "We is the expected result (win expectancy), either from the chart or the following formula:\n",
    "We = 1 / (10(-dr/400) + 1)\n",
    "dr equals the difference in ratings plus 100 points for a team playing at home.\n",
    "\n",
    "Sample Winning Expectancies\n",
    "\n",
    "Difference in Ratings //\tHigher Rated\t//Lower Rated\n",
    "0\t0.500\t0.500\n",
    "10\t0.514\t0.486\n",
    "20\t0.529\t0.471\n",
    "30\t0.543\t0.457\n",
    "40\t0.557\t0.443\n",
    "50\t0.571\t0.429\n",
    "60\t0.585\t0.415\n",
    "70\t0.599\t0.401\n",
    "80\t0.613\t0.387\n",
    "90\t0.627\t0.373\n",
    "\n",
    "\n",
    "My idea was to assess the reliability of Elo ratings for the group stage in the World Cup and identify any biases associated with them. I was curious to see if it was possible to predict surprises like for example Japan vs Geramany.\n",
    "\n",
    "I have gathered predictions from EloRating.net and then compared them with the results available on sports portals.\n",
    "\n",
    "Source:\n",
    "1. https://www.eloratings.net/about\n",
    "2. https://www.youtube.com/watch?v=KjISuZ5o06Q"
   ]
  },
  {
   "cell_type": "code",
   "execution_count": 1,
   "id": "7f14efb1",
   "metadata": {},
   "outputs": [],
   "source": [
    "import pandas as pd\n",
    "import seaborn as sns\n",
    "import matplotlib.pyplot as plt"
   ]
  },
  {
   "cell_type": "code",
   "execution_count": 2,
   "id": "36bf95c6",
   "metadata": {},
   "outputs": [],
   "source": [
    "#Reading result file\n",
    "elo_rating = pd.read_csv(r'..\\group matches elo prediction.csv')\n",
    "#List of 16 countries which were qualified to the nex\n",
    "next_level_teams = pd.read_csv(r'..\\nextLevel.csv')"
   ]
  },
  {
   "cell_type": "code",
   "execution_count": 3,
   "id": "1bef1093",
   "metadata": {},
   "outputs": [
    {
     "data": {
      "text/plain": [
       "array(['Team A', 'Region A', 'Team B', 'Region B', 'Rank A', 'Rank B',\n",
       "       'Rating A', 'Rating B', 'Wininng A', 'Wininng  B', 'Round ',\n",
       "       'Result', 'Goal A', 'Goal B', 'Advancment A', 'Go home A',\n",
       "       'Advancment B', 'Go home B'], dtype=object)"
      ]
     },
     "execution_count": 3,
     "metadata": {},
     "output_type": "execute_result"
    }
   ],
   "source": [
    "elo_rating.columns.values"
   ]
  },
  {
   "cell_type": "markdown",
   "id": "f40ae40c",
   "metadata": {},
   "source": [
    "#Descriptions of fields \n",
    "Team A  - Name of home team \n",
    "Region A - Region (confederation ) to which team A below\n",
    "Team B - Name of away team \n",
    "Region B -  Region (confederation ) to which team B below\n",
    "Rank A - Postion of team in A in elo rank \n",
    "Rank B - Postion of team in B in elo rank\n",
    "Rating A - Number of points for team A (elo rank)\n",
    "Rating B - Number of points for team A (elo rank)\n",
    "Wininng A - Percantege that team A wins ( elo rank )\n",
    "Wininng  B - Percantege that team B wins ( elo rank )\n",
    "Round - Round \n",
    "Result - which team one: A- if team A, B if team B, D for draft\n",
    "Goal A - number of goals for team A\n",
    "Goal B - number of goals for team B\n",
    "Advancment A - 1 if before starting round team in ensured that already qualified, 0 in other case\n",
    "Go home A  -  1 if before starting round team goes home , 0 in other case\n",
    "Advancment B - 1 if before starting round team in ensured that already qualified, 0 in other case\n",
    "Go home B - 1 if before starting round team goes home , 0 in other case\n"
   ]
  },
  {
   "cell_type": "code",
   "execution_count": 4,
   "id": "4a325a05",
   "metadata": {},
   "outputs": [
    {
     "data": {
      "text/html": [
       "<div>\n",
       "<style scoped>\n",
       "    .dataframe tbody tr th:only-of-type {\n",
       "        vertical-align: middle;\n",
       "    }\n",
       "\n",
       "    .dataframe tbody tr th {\n",
       "        vertical-align: top;\n",
       "    }\n",
       "\n",
       "    .dataframe thead th {\n",
       "        text-align: right;\n",
       "    }\n",
       "</style>\n",
       "<table border=\"1\" class=\"dataframe\">\n",
       "  <thead>\n",
       "    <tr style=\"text-align: right;\">\n",
       "      <th></th>\n",
       "      <th>Team A</th>\n",
       "      <th>Region A</th>\n",
       "      <th>Team B</th>\n",
       "      <th>Region B</th>\n",
       "      <th>Rank A</th>\n",
       "      <th>Rank B</th>\n",
       "      <th>Rating A</th>\n",
       "      <th>Rating B</th>\n",
       "      <th>Wininng A</th>\n",
       "      <th>Wininng  B</th>\n",
       "      <th>Round</th>\n",
       "      <th>Result</th>\n",
       "      <th>Goal A</th>\n",
       "      <th>Goal B</th>\n",
       "      <th>Advancment A</th>\n",
       "      <th>Go home A</th>\n",
       "      <th>Advancment B</th>\n",
       "      <th>Go home B</th>\n",
       "    </tr>\n",
       "  </thead>\n",
       "  <tbody>\n",
       "    <tr>\n",
       "      <th>0</th>\n",
       "      <td>Qatar</td>\n",
       "      <td>AFC</td>\n",
       "      <td>Equador</td>\n",
       "      <td>CONMEBOL</td>\n",
       "      <td>47</td>\n",
       "      <td>18</td>\n",
       "      <td>1680</td>\n",
       "      <td>1833</td>\n",
       "      <td>42</td>\n",
       "      <td>58</td>\n",
       "      <td>1</td>\n",
       "      <td>B</td>\n",
       "      <td>0</td>\n",
       "      <td>2</td>\n",
       "      <td>0</td>\n",
       "      <td>0</td>\n",
       "      <td>0</td>\n",
       "      <td>0</td>\n",
       "    </tr>\n",
       "    <tr>\n",
       "      <th>1</th>\n",
       "      <td>England</td>\n",
       "      <td>UEFA</td>\n",
       "      <td>Iran</td>\n",
       "      <td>AFC</td>\n",
       "      <td>13</td>\n",
       "      <td>24</td>\n",
       "      <td>1920</td>\n",
       "      <td>1797</td>\n",
       "      <td>67</td>\n",
       "      <td>33</td>\n",
       "      <td>1</td>\n",
       "      <td>A</td>\n",
       "      <td>6</td>\n",
       "      <td>2</td>\n",
       "      <td>0</td>\n",
       "      <td>0</td>\n",
       "      <td>0</td>\n",
       "      <td>0</td>\n",
       "    </tr>\n",
       "    <tr>\n",
       "      <th>2</th>\n",
       "      <td>Netherlands</td>\n",
       "      <td>UEFA</td>\n",
       "      <td>Senegal</td>\n",
       "      <td>CAF</td>\n",
       "      <td>4</td>\n",
       "      <td>45</td>\n",
       "      <td>2040</td>\n",
       "      <td>1687</td>\n",
       "      <td>88</td>\n",
       "      <td>12</td>\n",
       "      <td>1</td>\n",
       "      <td>A</td>\n",
       "      <td>2</td>\n",
       "      <td>0</td>\n",
       "      <td>0</td>\n",
       "      <td>0</td>\n",
       "      <td>0</td>\n",
       "      <td>0</td>\n",
       "    </tr>\n",
       "    <tr>\n",
       "      <th>3</th>\n",
       "      <td>United States</td>\n",
       "      <td>CONCACAF</td>\n",
       "      <td>Wales</td>\n",
       "      <td>UEFA</td>\n",
       "      <td>23</td>\n",
       "      <td>25</td>\n",
       "      <td>1798</td>\n",
       "      <td>1790</td>\n",
       "      <td>51</td>\n",
       "      <td>49</td>\n",
       "      <td>1</td>\n",
       "      <td>D</td>\n",
       "      <td>1</td>\n",
       "      <td>1</td>\n",
       "      <td>0</td>\n",
       "      <td>0</td>\n",
       "      <td>0</td>\n",
       "      <td>0</td>\n",
       "    </tr>\n",
       "    <tr>\n",
       "      <th>4</th>\n",
       "      <td>Argentina</td>\n",
       "      <td>CONMEBOL</td>\n",
       "      <td>Saudi Arabia</td>\n",
       "      <td>AFC</td>\n",
       "      <td>2</td>\n",
       "      <td>55</td>\n",
       "      <td>2143</td>\n",
       "      <td>1635</td>\n",
       "      <td>95</td>\n",
       "      <td>5</td>\n",
       "      <td>1</td>\n",
       "      <td>B</td>\n",
       "      <td>1</td>\n",
       "      <td>2</td>\n",
       "      <td>0</td>\n",
       "      <td>0</td>\n",
       "      <td>0</td>\n",
       "      <td>0</td>\n",
       "    </tr>\n",
       "    <tr>\n",
       "      <th>5</th>\n",
       "      <td>Australia</td>\n",
       "      <td>AFC</td>\n",
       "      <td>France</td>\n",
       "      <td>UEFA</td>\n",
       "      <td>38</td>\n",
       "      <td>7</td>\n",
       "      <td>1719</td>\n",
       "      <td>2005</td>\n",
       "      <td>16</td>\n",
       "      <td>84</td>\n",
       "      <td>1</td>\n",
       "      <td>B</td>\n",
       "      <td>1</td>\n",
       "      <td>4</td>\n",
       "      <td>0</td>\n",
       "      <td>0</td>\n",
       "      <td>0</td>\n",
       "      <td>0</td>\n",
       "    </tr>\n",
       "    <tr>\n",
       "      <th>6</th>\n",
       "      <td>Denmark</td>\n",
       "      <td>UEFA</td>\n",
       "      <td>Tunisia</td>\n",
       "      <td>CAF</td>\n",
       "      <td>9</td>\n",
       "      <td>40</td>\n",
       "      <td>1971</td>\n",
       "      <td>1707</td>\n",
       "      <td>82</td>\n",
       "      <td>18</td>\n",
       "      <td>1</td>\n",
       "      <td>D</td>\n",
       "      <td>0</td>\n",
       "      <td>0</td>\n",
       "      <td>0</td>\n",
       "      <td>0</td>\n",
       "      <td>0</td>\n",
       "      <td>0</td>\n",
       "    </tr>\n",
       "    <tr>\n",
       "      <th>7</th>\n",
       "      <td>Mexico</td>\n",
       "      <td>CONCACAF</td>\n",
       "      <td>Poland</td>\n",
       "      <td>UEFA</td>\n",
       "      <td>22</td>\n",
       "      <td>21</td>\n",
       "      <td>1809</td>\n",
       "      <td>1814</td>\n",
       "      <td>49</td>\n",
       "      <td>51</td>\n",
       "      <td>1</td>\n",
       "      <td>D</td>\n",
       "      <td>0</td>\n",
       "      <td>0</td>\n",
       "      <td>0</td>\n",
       "      <td>0</td>\n",
       "      <td>0</td>\n",
       "      <td>0</td>\n",
       "    </tr>\n",
       "    <tr>\n",
       "      <th>8</th>\n",
       "      <td>Belgium</td>\n",
       "      <td>UEFA</td>\n",
       "      <td>Canada</td>\n",
       "      <td>CONCACAF</td>\n",
       "      <td>5</td>\n",
       "      <td>29</td>\n",
       "      <td>2007</td>\n",
       "      <td>1776</td>\n",
       "      <td>79</td>\n",
       "      <td>21</td>\n",
       "      <td>1</td>\n",
       "      <td>A</td>\n",
       "      <td>1</td>\n",
       "      <td>0</td>\n",
       "      <td>0</td>\n",
       "      <td>0</td>\n",
       "      <td>0</td>\n",
       "      <td>0</td>\n",
       "    </tr>\n",
       "    <tr>\n",
       "      <th>9</th>\n",
       "      <td>Costa Rica</td>\n",
       "      <td>CONMEBOL</td>\n",
       "      <td>Spain</td>\n",
       "      <td>UEFA</td>\n",
       "      <td>35</td>\n",
       "      <td>3</td>\n",
       "      <td>1743</td>\n",
       "      <td>2048</td>\n",
       "      <td>15</td>\n",
       "      <td>85</td>\n",
       "      <td>1</td>\n",
       "      <td>B</td>\n",
       "      <td>0</td>\n",
       "      <td>7</td>\n",
       "      <td>0</td>\n",
       "      <td>0</td>\n",
       "      <td>0</td>\n",
       "      <td>0</td>\n",
       "    </tr>\n",
       "  </tbody>\n",
       "</table>\n",
       "</div>"
      ],
      "text/plain": [
       "          Team A  Region A        Team B  Region B  Rank A  Rank B  Rating A  \\\n",
       "0          Qatar       AFC       Equador  CONMEBOL      47      18      1680   \n",
       "1       England       UEFA          Iran       AFC      13      24      1920   \n",
       "2    Netherlands      UEFA       Senegal       CAF       4      45      2040   \n",
       "3  United States  CONCACAF         Wales      UEFA      23      25      1798   \n",
       "4     Argentina   CONMEBOL  Saudi Arabia       AFC       2      55      2143   \n",
       "5     Australia        AFC       France       UEFA      38       7      1719   \n",
       "6        Denmark      UEFA       Tunisia       CAF       9      40      1971   \n",
       "7         Mexico  CONCACAF        Poland      UEFA      22      21      1809   \n",
       "8       Belgium       UEFA        Canada  CONCACAF       5      29      2007   \n",
       "9     Costa Rica  CONMEBOL         Spain      UEFA      35       3      1743   \n",
       "\n",
       "   Rating B  Wininng A  Wininng  B  Round  Result  Goal A  Goal B  \\\n",
       "0      1833         42          58       1      B       0       2   \n",
       "1      1797         67          33       1      A       6       2   \n",
       "2      1687         88          12       1      A       2       0   \n",
       "3      1790         51          49       1      D       1       1   \n",
       "4      1635         95           5       1      B       1       2   \n",
       "5      2005         16          84       1      B       1       4   \n",
       "6      1707         82          18       1      D       0       0   \n",
       "7      1814         49          51       1      D       0       0   \n",
       "8      1776         79          21       1      A       1       0   \n",
       "9      2048         15          85       1      B       0       7   \n",
       "\n",
       "   Advancment A  Go home A  Advancment B  Go home B  \n",
       "0             0          0             0          0  \n",
       "1             0          0             0          0  \n",
       "2             0          0             0          0  \n",
       "3             0          0             0          0  \n",
       "4             0          0             0          0  \n",
       "5             0          0             0          0  \n",
       "6             0          0             0          0  \n",
       "7             0          0             0          0  \n",
       "8             0          0             0          0  \n",
       "9             0          0             0          0  "
      ]
     },
     "execution_count": 4,
     "metadata": {},
     "output_type": "execute_result"
    }
   ],
   "source": [
    "elo_rating.head(10)"
   ]
  },
  {
   "cell_type": "code",
   "execution_count": 5,
   "id": "e85cbcc3",
   "metadata": {},
   "outputs": [
    {
     "name": "stdout",
     "output_type": "stream",
     "text": [
      "<class 'pandas.core.frame.DataFrame'>\n",
      "Int64Index: 16 entries, 0 to 15\n",
      "Data columns (total 4 columns):\n",
      " #   Column  Non-Null Count  Dtype \n",
      "---  ------  --------------  ----- \n",
      " 0   Team    16 non-null     object\n",
      " 1   Region  16 non-null     object\n",
      " 2   Rating  16 non-null     int64 \n",
      " 3   Rank    16 non-null     int64 \n",
      "dtypes: int64(2), object(2)\n",
      "memory usage: 640.0+ bytes\n",
      "<class 'pandas.core.frame.DataFrame'>\n",
      "Int64Index: 16 entries, 0 to 15\n",
      "Data columns (total 4 columns):\n",
      " #   Column  Non-Null Count  Dtype \n",
      "---  ------  --------------  ----- \n",
      " 0   Team    16 non-null     object\n",
      " 1   Region  16 non-null     object\n",
      " 2   Rating  16 non-null     int64 \n",
      " 3   Rank    16 non-null     int64 \n",
      "dtypes: int64(2), object(2)\n",
      "memory usage: 640.0+ bytes\n"
     ]
    },
    {
     "data": {
      "text/html": [
       "<div>\n",
       "<style scoped>\n",
       "    .dataframe tbody tr th:only-of-type {\n",
       "        vertical-align: middle;\n",
       "    }\n",
       "\n",
       "    .dataframe tbody tr th {\n",
       "        vertical-align: top;\n",
       "    }\n",
       "\n",
       "    .dataframe thead th {\n",
       "        text-align: right;\n",
       "    }\n",
       "</style>\n",
       "<table border=\"1\" class=\"dataframe\">\n",
       "  <thead>\n",
       "    <tr style=\"text-align: right;\">\n",
       "      <th></th>\n",
       "      <th>Team</th>\n",
       "      <th>Region</th>\n",
       "      <th>Rating</th>\n",
       "      <th>Rank</th>\n",
       "    </tr>\n",
       "  </thead>\n",
       "  <tbody>\n",
       "    <tr>\n",
       "      <th>0</th>\n",
       "      <td>Brazil</td>\n",
       "      <td>CONMEBOL</td>\n",
       "      <td>2168</td>\n",
       "      <td>1</td>\n",
       "    </tr>\n",
       "    <tr>\n",
       "      <th>1</th>\n",
       "      <td>Argentina</td>\n",
       "      <td>CONMEBOL</td>\n",
       "      <td>2143</td>\n",
       "      <td>2</td>\n",
       "    </tr>\n",
       "    <tr>\n",
       "      <th>2</th>\n",
       "      <td>Spain</td>\n",
       "      <td>UEFA</td>\n",
       "      <td>2048</td>\n",
       "      <td>3</td>\n",
       "    </tr>\n",
       "    <tr>\n",
       "      <th>3</th>\n",
       "      <td>Netherlands</td>\n",
       "      <td>UEFA</td>\n",
       "      <td>2040</td>\n",
       "      <td>4</td>\n",
       "    </tr>\n",
       "    <tr>\n",
       "      <th>4</th>\n",
       "      <td>Belgium</td>\n",
       "      <td>UEFA</td>\n",
       "      <td>2007</td>\n",
       "      <td>5</td>\n",
       "    </tr>\n",
       "    <tr>\n",
       "      <th>5</th>\n",
       "      <td>Portugal</td>\n",
       "      <td>UEFA</td>\n",
       "      <td>2006</td>\n",
       "      <td>6</td>\n",
       "    </tr>\n",
       "    <tr>\n",
       "      <th>6</th>\n",
       "      <td>France</td>\n",
       "      <td>UEFA</td>\n",
       "      <td>2005</td>\n",
       "      <td>7</td>\n",
       "    </tr>\n",
       "    <tr>\n",
       "      <th>7</th>\n",
       "      <td>Denmark</td>\n",
       "      <td>UEFA</td>\n",
       "      <td>1971</td>\n",
       "      <td>9</td>\n",
       "    </tr>\n",
       "    <tr>\n",
       "      <th>8</th>\n",
       "      <td>Germany</td>\n",
       "      <td>UEFA</td>\n",
       "      <td>1963</td>\n",
       "      <td>10</td>\n",
       "    </tr>\n",
       "    <tr>\n",
       "      <th>9</th>\n",
       "      <td>Uruguay</td>\n",
       "      <td>CONMEBOL</td>\n",
       "      <td>1936</td>\n",
       "      <td>11</td>\n",
       "    </tr>\n",
       "    <tr>\n",
       "      <th>10</th>\n",
       "      <td>Croatia</td>\n",
       "      <td>UEFA</td>\n",
       "      <td>1927</td>\n",
       "      <td>12</td>\n",
       "    </tr>\n",
       "    <tr>\n",
       "      <th>11</th>\n",
       "      <td>England</td>\n",
       "      <td>UEFA</td>\n",
       "      <td>1920</td>\n",
       "      <td>13</td>\n",
       "    </tr>\n",
       "    <tr>\n",
       "      <th>12</th>\n",
       "      <td>Switzerland</td>\n",
       "      <td>UEFA</td>\n",
       "      <td>1902</td>\n",
       "      <td>15</td>\n",
       "    </tr>\n",
       "    <tr>\n",
       "      <th>13</th>\n",
       "      <td>Serbia</td>\n",
       "      <td>UEFA</td>\n",
       "      <td>1898</td>\n",
       "      <td>16</td>\n",
       "    </tr>\n",
       "    <tr>\n",
       "      <th>14</th>\n",
       "      <td>Equador</td>\n",
       "      <td>CONMEBOL</td>\n",
       "      <td>1833</td>\n",
       "      <td>18</td>\n",
       "    </tr>\n",
       "    <tr>\n",
       "      <th>15</th>\n",
       "      <td>Poland</td>\n",
       "      <td>UEFA</td>\n",
       "      <td>1814</td>\n",
       "      <td>21</td>\n",
       "    </tr>\n",
       "    <tr>\n",
       "      <th>16</th>\n",
       "      <td>Mexico</td>\n",
       "      <td>CONCACAF</td>\n",
       "      <td>1809</td>\n",
       "      <td>22</td>\n",
       "    </tr>\n",
       "    <tr>\n",
       "      <th>17</th>\n",
       "      <td>United States</td>\n",
       "      <td>CONCACAF</td>\n",
       "      <td>1798</td>\n",
       "      <td>23</td>\n",
       "    </tr>\n",
       "    <tr>\n",
       "      <th>18</th>\n",
       "      <td>Iran</td>\n",
       "      <td>AFC</td>\n",
       "      <td>1797</td>\n",
       "      <td>24</td>\n",
       "    </tr>\n",
       "    <tr>\n",
       "      <th>19</th>\n",
       "      <td>Wales</td>\n",
       "      <td>UEFA</td>\n",
       "      <td>1790</td>\n",
       "      <td>25</td>\n",
       "    </tr>\n",
       "    <tr>\n",
       "      <th>20</th>\n",
       "      <td>Japan</td>\n",
       "      <td>AFC</td>\n",
       "      <td>1787</td>\n",
       "      <td>26</td>\n",
       "    </tr>\n",
       "    <tr>\n",
       "      <th>21</th>\n",
       "      <td>South Korea</td>\n",
       "      <td>AFC</td>\n",
       "      <td>1786</td>\n",
       "      <td>27</td>\n",
       "    </tr>\n",
       "    <tr>\n",
       "      <th>22</th>\n",
       "      <td>Canada</td>\n",
       "      <td>CONCACAF</td>\n",
       "      <td>1776</td>\n",
       "      <td>29</td>\n",
       "    </tr>\n",
       "    <tr>\n",
       "      <th>23</th>\n",
       "      <td>Maroco</td>\n",
       "      <td>CAF</td>\n",
       "      <td>1766</td>\n",
       "      <td>30</td>\n",
       "    </tr>\n",
       "    <tr>\n",
       "      <th>24</th>\n",
       "      <td>Costa Rica</td>\n",
       "      <td>CONMEBOL</td>\n",
       "      <td>1743</td>\n",
       "      <td>35</td>\n",
       "    </tr>\n",
       "    <tr>\n",
       "      <th>25</th>\n",
       "      <td>Australia</td>\n",
       "      <td>AFC</td>\n",
       "      <td>1719</td>\n",
       "      <td>38</td>\n",
       "    </tr>\n",
       "    <tr>\n",
       "      <th>26</th>\n",
       "      <td>Tunisia</td>\n",
       "      <td>CAF</td>\n",
       "      <td>1707</td>\n",
       "      <td>40</td>\n",
       "    </tr>\n",
       "    <tr>\n",
       "      <th>27</th>\n",
       "      <td>Senegal</td>\n",
       "      <td>CAF</td>\n",
       "      <td>1687</td>\n",
       "      <td>45</td>\n",
       "    </tr>\n",
       "    <tr>\n",
       "      <th>28</th>\n",
       "      <td>Qatar</td>\n",
       "      <td>AFC</td>\n",
       "      <td>1680</td>\n",
       "      <td>47</td>\n",
       "    </tr>\n",
       "    <tr>\n",
       "      <th>29</th>\n",
       "      <td>Saudi Arabia</td>\n",
       "      <td>AFC</td>\n",
       "      <td>1635</td>\n",
       "      <td>55</td>\n",
       "    </tr>\n",
       "    <tr>\n",
       "      <th>30</th>\n",
       "      <td>Cameroon</td>\n",
       "      <td>CAF</td>\n",
       "      <td>1610</td>\n",
       "      <td>60</td>\n",
       "    </tr>\n",
       "    <tr>\n",
       "      <th>31</th>\n",
       "      <td>Ghana</td>\n",
       "      <td>CAF</td>\n",
       "      <td>1567</td>\n",
       "      <td>67</td>\n",
       "    </tr>\n",
       "  </tbody>\n",
       "</table>\n",
       "</div>"
      ],
      "text/plain": [
       "             Team    Region  Rating  Rank\n",
       "0         Brazil   CONMEBOL    2168     1\n",
       "1      Argentina   CONMEBOL    2143     2\n",
       "2           Spain      UEFA    2048     3\n",
       "3     Netherlands      UEFA    2040     4\n",
       "4        Belgium       UEFA    2007     5\n",
       "5        Portugal      UEFA    2006     6\n",
       "6         France       UEFA    2005     7\n",
       "7         Denmark      UEFA    1971     9\n",
       "8         Germany      UEFA    1963    10\n",
       "9         Uruguay  CONMEBOL    1936    11\n",
       "10        Croatia      UEFA    1927    12\n",
       "11       England       UEFA    1920    13\n",
       "12    Switzerland      UEFA    1902    15\n",
       "13         Serbia      UEFA    1898    16\n",
       "14        Equador  CONMEBOL    1833    18\n",
       "15         Poland      UEFA    1814    21\n",
       "16         Mexico  CONCACAF    1809    22\n",
       "17  United States  CONCACAF    1798    23\n",
       "18           Iran       AFC    1797    24\n",
       "19          Wales      UEFA    1790    25\n",
       "20          Japan       AFC    1787    26\n",
       "21    South Korea       AFC    1786    27\n",
       "22         Canada  CONCACAF    1776    29\n",
       "23         Maroco       CAF    1766    30\n",
       "24     Costa Rica  CONMEBOL    1743    35\n",
       "25     Australia        AFC    1719    38\n",
       "26        Tunisia       CAF    1707    40\n",
       "27        Senegal       CAF    1687    45\n",
       "28          Qatar       AFC    1680    47\n",
       "29   Saudi Arabia       AFC    1635    55\n",
       "30       Cameroon       CAF    1610    60\n",
       "31          Ghana       CAF    1567    67"
      ]
     },
     "execution_count": 5,
     "metadata": {},
     "output_type": "execute_result"
    }
   ],
   "source": [
    "#Lets build list of countries with ranking place and rating points \n",
    "teamsB = elo_rating[['Team B', 'Region B', 'Rating B', 'Rank B']].loc[elo_rating['Round '] == 1]\n",
    "teamsB.columns = ['Team', 'Region', 'Rating', 'Rank'] \n",
    "teamsB.info()\n",
    "teamsA = elo_rating[['Team A', 'Region A', 'Rating A', 'Rank A']].loc[elo_rating['Round '] == 1]\n",
    "teamsA.columns = ['Team', 'Region', 'Rating', 'Rank'] \n",
    "teamsA.info()\n",
    "teams = pd.concat([teamsA, teamsB], axis=0 ).sort_values('Rating',  ascending=False).drop_duplicates().reset_index(drop=True)\n",
    "teams.describe(include=[\"O\"])\n",
    "teams.head(32)"
   ]
  },
  {
   "cell_type": "code",
   "execution_count": 6,
   "id": "0f465cd1",
   "metadata": {},
   "outputs": [
    {
     "data": {
      "text/plain": [
       "<seaborn.axisgrid.FacetGrid at 0x19750d3a160>"
      ]
     },
     "execution_count": 6,
     "metadata": {},
     "output_type": "execute_result"
    },
    {
     "data": {
      "image/png": "[encoded data removed]",
      "text/plain": [
       "<Figure size 360x360 with 1 Axes>"
      ]
     },
     "metadata": {
      "needs_background": "light"
     },
     "output_type": "display_data"
    }
   ],
   "source": [
    "#Lets plot team and their points in ranking\n",
    "sns.catplot(data=teams, kind=\"bar\",  x= \"Rating\" ,y=\"Team\")"
   ]
  },
  {
   "cell_type": "code",
   "execution_count": 8,
   "id": "b8fd418a",
   "metadata": {},
   "outputs": [
    {
     "name": "stdout",
     "output_type": "stream",
     "text": [
      "(1767.333, 1867.5]      9\n",
      "(1667.167, 1767.333]    6\n",
      "(1867.5, 1967.667]      6\n",
      "(1967.667, 2067.833]    6\n",
      "(1566.399, 1667.167]    3\n",
      "(2067.833, 2168.0]      2\n",
      "Name: Rating, dtype: int64\n"
     ]
    }
   ],
   "source": [
    "# lets see how teams are splitted in the ranges\n",
    "sliced = pd.cut(teams['Rating'], 6)\n",
    "print(sliced.value_counts())"
   ]
  },
  {
   "cell_type": "code",
   "execution_count": 10,
   "id": "cded8952",
   "metadata": {},
   "outputs": [
    {
     "data": {
      "image/png": "[encoded data removed]",
      "text/plain": [
       "<Figure size 400x400 with 1 Axes>"
      ]
     },
     "metadata": {},
     "output_type": "display_data"
    }
   ],
   "source": [
    "#histogram\n",
    "ax = teams['Rating'].plot.hist(figsize=(4, 4))\n",
    "ax.set_xlabel('Points')\n",
    "plt.tight_layout()\n",
    "plt.show()"
   ]
  },
  {
   "cell_type": "code",
   "execution_count": 11,
   "id": "beaf886c",
   "metadata": {},
   "outputs": [],
   "source": [
    "# It looks like there  are two very strong teams Brazil and Argentina. Then we have few groups of \n",
    "# countries with very similar number of points. For example difference between Equador ( 14 th place)  \n",
    "# and Maroco (23 rd place) is only around 70 points"
   ]
  },
  {
   "cell_type": "code",
   "execution_count": 12,
   "id": "bd970aee",
   "metadata": {},
   "outputs": [
    {
     "data": {
      "text/html": [
       "<div>\n",
       "<style scoped>\n",
       "    .dataframe tbody tr th:only-of-type {\n",
       "        vertical-align: middle;\n",
       "    }\n",
       "\n",
       "    .dataframe tbody tr th {\n",
       "        vertical-align: top;\n",
       "    }\n",
       "\n",
       "    .dataframe thead th {\n",
       "        text-align: right;\n",
       "    }\n",
       "</style>\n",
       "<table border=\"1\" class=\"dataframe\">\n",
       "  <thead>\n",
       "    <tr style=\"text-align: right;\">\n",
       "      <th></th>\n",
       "      <th>Region</th>\n",
       "      <th>Rating</th>\n",
       "    </tr>\n",
       "  </thead>\n",
       "  <tbody>\n",
       "    <tr>\n",
       "      <th>3</th>\n",
       "      <td>CONMEBOL</td>\n",
       "      <td>1964.600000</td>\n",
       "    </tr>\n",
       "    <tr>\n",
       "      <th>4</th>\n",
       "      <td>UEFA</td>\n",
       "      <td>1945.461538</td>\n",
       "    </tr>\n",
       "    <tr>\n",
       "      <th>2</th>\n",
       "      <td>CONCACAF</td>\n",
       "      <td>1794.333333</td>\n",
       "    </tr>\n",
       "    <tr>\n",
       "      <th>0</th>\n",
       "      <td>AFC</td>\n",
       "      <td>1734.000000</td>\n",
       "    </tr>\n",
       "    <tr>\n",
       "      <th>1</th>\n",
       "      <td>CAF</td>\n",
       "      <td>1667.400000</td>\n",
       "    </tr>\n",
       "  </tbody>\n",
       "</table>\n",
       "</div>"
      ],
      "text/plain": [
       "     Region       Rating\n",
       "3  CONMEBOL  1964.600000\n",
       "4      UEFA  1945.461538\n",
       "2  CONCACAF  1794.333333\n",
       "0       AFC  1734.000000\n",
       "1       CAF  1667.400000"
      ]
     },
     "execution_count": 12,
     "metadata": {},
     "output_type": "execute_result"
    }
   ],
   "source": [
    "# lets check average rating points by region.\n",
    "teams[[\"Region\", \"Rating\"]].groupby(['Region'], as_index=False).mean().sort_values(by='Rating', ascending=False)"
   ]
  },
  {
   "cell_type": "code",
   "execution_count": 13,
   "id": "417270e6",
   "metadata": {},
   "outputs": [],
   "source": [
    "region = teams[[\"Region\", \"Rating\"]].groupby(['Region'], as_index=False).mean().sort_values(by='Rating', ascending=False)"
   ]
  },
  {
   "cell_type": "code",
   "execution_count": 14,
   "id": "f229eff2",
   "metadata": {},
   "outputs": [
    {
     "data": {
      "text/plain": [
       "<seaborn.axisgrid.FacetGrid at 0x197569e1e50>"
      ]
     },
     "execution_count": 14,
     "metadata": {},
     "output_type": "execute_result"
    },
    {
     "data": {
      "image/png": "[encoded data removed]",
      "text/plain": [
       "<Figure size 500x500 with 1 Axes>"
      ]
     },
     "metadata": {},
     "output_type": "display_data"
    }
   ],
   "source": [
    "sns.catplot(data=teams, kind=\"bar\",  x= \"Rating\" ,y=\"Region\")"
   ]
  },
  {
   "cell_type": "code",
   "execution_count": 15,
   "id": "e159d44c",
   "metadata": {},
   "outputs": [],
   "source": [
    "# the strongest teams come from South America and Europe"
   ]
  },
  {
   "cell_type": "code",
   "execution_count": 16,
   "id": "29c28806",
   "metadata": {},
   "outputs": [
    {
     "data": {
      "text/plain": [
       "Region  \n",
       "UEFA        13\n",
       "AFC          6\n",
       "CAF          5\n",
       "CONMEBOL     5\n",
       "CONCACAF     3\n",
       "dtype: int64"
      ]
     },
     "execution_count": 16,
     "metadata": {},
     "output_type": "execute_result"
    }
   ],
   "source": [
    "# Lets see number of particpants from each region\n",
    "teams[['Region']].value_counts()"
   ]
  },
  {
   "cell_type": "code",
   "execution_count": 17,
   "id": "b714c93b",
   "metadata": {},
   "outputs": [
    {
     "data": {
      "text/html": [
       "<div>\n",
       "<style scoped>\n",
       "    .dataframe tbody tr th:only-of-type {\n",
       "        vertical-align: middle;\n",
       "    }\n",
       "\n",
       "    .dataframe tbody tr th {\n",
       "        vertical-align: top;\n",
       "    }\n",
       "\n",
       "    .dataframe thead th {\n",
       "        text-align: right;\n",
       "    }\n",
       "</style>\n",
       "<table border=\"1\" class=\"dataframe\">\n",
       "  <thead>\n",
       "    <tr style=\"text-align: right;\">\n",
       "      <th></th>\n",
       "      <th>Team</th>\n",
       "      <th>Region</th>\n",
       "      <th>Rating</th>\n",
       "      <th>Rank</th>\n",
       "    </tr>\n",
       "  </thead>\n",
       "  <tbody>\n",
       "    <tr>\n",
       "      <th>24</th>\n",
       "      <td>Costa Rica</td>\n",
       "      <td>CONMEBOL</td>\n",
       "      <td>1743</td>\n",
       "      <td>35</td>\n",
       "    </tr>\n",
       "    <tr>\n",
       "      <th>25</th>\n",
       "      <td>Australia</td>\n",
       "      <td>AFC</td>\n",
       "      <td>1719</td>\n",
       "      <td>38</td>\n",
       "    </tr>\n",
       "    <tr>\n",
       "      <th>26</th>\n",
       "      <td>Tunisia</td>\n",
       "      <td>CAF</td>\n",
       "      <td>1707</td>\n",
       "      <td>40</td>\n",
       "    </tr>\n",
       "    <tr>\n",
       "      <th>27</th>\n",
       "      <td>Senegal</td>\n",
       "      <td>CAF</td>\n",
       "      <td>1687</td>\n",
       "      <td>45</td>\n",
       "    </tr>\n",
       "    <tr>\n",
       "      <th>28</th>\n",
       "      <td>Qatar</td>\n",
       "      <td>AFC</td>\n",
       "      <td>1680</td>\n",
       "      <td>47</td>\n",
       "    </tr>\n",
       "    <tr>\n",
       "      <th>29</th>\n",
       "      <td>Saudi Arabia</td>\n",
       "      <td>AFC</td>\n",
       "      <td>1635</td>\n",
       "      <td>55</td>\n",
       "    </tr>\n",
       "    <tr>\n",
       "      <th>30</th>\n",
       "      <td>Cameroon</td>\n",
       "      <td>CAF</td>\n",
       "      <td>1610</td>\n",
       "      <td>60</td>\n",
       "    </tr>\n",
       "    <tr>\n",
       "      <th>31</th>\n",
       "      <td>Ghana</td>\n",
       "      <td>CAF</td>\n",
       "      <td>1567</td>\n",
       "      <td>67</td>\n",
       "    </tr>\n",
       "  </tbody>\n",
       "</table>\n",
       "</div>"
      ],
      "text/plain": [
       "            Team    Region  Rating  Rank\n",
       "24    Costa Rica  CONMEBOL    1743    35\n",
       "25    Australia        AFC    1719    38\n",
       "26       Tunisia       CAF    1707    40\n",
       "27       Senegal       CAF    1687    45\n",
       "28         Qatar       AFC    1680    47\n",
       "29  Saudi Arabia       AFC    1635    55\n",
       "30      Cameroon       CAF    1610    60\n",
       "31         Ghana       CAF    1567    67"
      ]
     },
     "execution_count": 17,
     "metadata": {},
     "output_type": "execute_result"
    }
   ],
   "source": [
    "#To tournament there is only 32 teams qualified. Lets check if we have teams  which are below \n",
    "# 32 in ranking \n",
    "teams.loc[teams['Rank'] > 32]"
   ]
  },
  {
   "cell_type": "code",
   "execution_count": 18,
   "id": "1558fcd7",
   "metadata": {},
   "outputs": [],
   "source": [
    "# It looks like 8 teams are in ELO ranking below 32. This is caused that each confederation \n",
    "# has constant number of teams which play in World Cup. "
   ]
  },
  {
   "cell_type": "code",
   "execution_count": 19,
   "id": "c5679166",
   "metadata": {},
   "outputs": [],
   "source": [
    "# As this is analysis of performance of rating after  group phase we already have results. So lets\n",
    "# check what were the lowest ranking team who advance to the next round  \n",
    "def next_level(team: str) -> int:\n",
    "    result = 0\n",
    "    if team in next_level_teams['Team'].values:\n",
    "        result = 1\n",
    "    return result"
   ]
  },
  {
   "cell_type": "code",
   "execution_count": 20,
   "id": "0bed6d8f",
   "metadata": {},
   "outputs": [],
   "source": [
    "teams['NextLevel'] =  teams[\"Team\"].apply(next_level)"
   ]
  },
  {
   "cell_type": "code",
   "execution_count": 21,
   "id": "6aa0868c",
   "metadata": {
    "scrolled": true
   },
   "outputs": [
    {
     "data": {
      "text/html": [
       "<div>\n",
       "<style scoped>\n",
       "    .dataframe tbody tr th:only-of-type {\n",
       "        vertical-align: middle;\n",
       "    }\n",
       "\n",
       "    .dataframe tbody tr th {\n",
       "        vertical-align: top;\n",
       "    }\n",
       "\n",
       "    .dataframe thead th {\n",
       "        text-align: right;\n",
       "    }\n",
       "</style>\n",
       "<table border=\"1\" class=\"dataframe\">\n",
       "  <thead>\n",
       "    <tr style=\"text-align: right;\">\n",
       "      <th></th>\n",
       "      <th>Team</th>\n",
       "      <th>Region</th>\n",
       "      <th>Rating</th>\n",
       "      <th>Rank</th>\n",
       "      <th>NextLevel</th>\n",
       "    </tr>\n",
       "  </thead>\n",
       "  <tbody>\n",
       "    <tr>\n",
       "      <th>15</th>\n",
       "      <td>Poland</td>\n",
       "      <td>UEFA</td>\n",
       "      <td>1814</td>\n",
       "      <td>21</td>\n",
       "      <td>1</td>\n",
       "    </tr>\n",
       "    <tr>\n",
       "      <th>17</th>\n",
       "      <td>United States</td>\n",
       "      <td>CONCACAF</td>\n",
       "      <td>1798</td>\n",
       "      <td>23</td>\n",
       "      <td>1</td>\n",
       "    </tr>\n",
       "    <tr>\n",
       "      <th>20</th>\n",
       "      <td>Japan</td>\n",
       "      <td>AFC</td>\n",
       "      <td>1787</td>\n",
       "      <td>26</td>\n",
       "      <td>1</td>\n",
       "    </tr>\n",
       "    <tr>\n",
       "      <th>21</th>\n",
       "      <td>South Korea</td>\n",
       "      <td>AFC</td>\n",
       "      <td>1786</td>\n",
       "      <td>27</td>\n",
       "      <td>1</td>\n",
       "    </tr>\n",
       "    <tr>\n",
       "      <th>23</th>\n",
       "      <td>Maroco</td>\n",
       "      <td>CAF</td>\n",
       "      <td>1766</td>\n",
       "      <td>30</td>\n",
       "      <td>1</td>\n",
       "    </tr>\n",
       "    <tr>\n",
       "      <th>25</th>\n",
       "      <td>Australia</td>\n",
       "      <td>AFC</td>\n",
       "      <td>1719</td>\n",
       "      <td>38</td>\n",
       "      <td>1</td>\n",
       "    </tr>\n",
       "    <tr>\n",
       "      <th>27</th>\n",
       "      <td>Senegal</td>\n",
       "      <td>CAF</td>\n",
       "      <td>1687</td>\n",
       "      <td>45</td>\n",
       "      <td>1</td>\n",
       "    </tr>\n",
       "  </tbody>\n",
       "</table>\n",
       "</div>"
      ],
      "text/plain": [
       "             Team    Region  Rating  Rank  NextLevel\n",
       "15         Poland      UEFA    1814    21          1\n",
       "17  United States  CONCACAF    1798    23          1\n",
       "20          Japan       AFC    1787    26          1\n",
       "21    South Korea       AFC    1786    27          1\n",
       "23         Maroco       CAF    1766    30          1\n",
       "25     Australia        AFC    1719    38          1\n",
       "27        Senegal       CAF    1687    45          1"
      ]
     },
     "execution_count": 21,
     "metadata": {},
     "output_type": "execute_result"
    }
   ],
   "source": [
    "# If system is 100% reliable there should be 16 the best team in 1/8,  but it looks like 7 teams were below 16 place qualified \n",
    "# to 1/8\n",
    "teams.loc[( teams['Rank'] > 16 ) & ( teams['NextLevel'] == 1 ) ]\n",
    "# Teams which are below 16 in ranking, but finally qualified to 1/8"
   ]
  },
  {
   "cell_type": "code",
   "execution_count": 22,
   "id": "81b99d09",
   "metadata": {},
   "outputs": [],
   "source": [
    "#There are 7 teams. Lowest is Senegal which has only 1687 point and it was 45th team in elo ranking "
   ]
  },
  {
   "cell_type": "code",
   "execution_count": 23,
   "id": "85ae5024",
   "metadata": {},
   "outputs": [
    {
     "data": {
      "text/plain": [
       "<seaborn.axisgrid.FacetGrid at 0x19756a12550>"
      ]
     },
     "execution_count": 23,
     "metadata": {},
     "output_type": "execute_result"
    },
    {
     "data": {
      "image/png": "[encoded data removed]",
      "text/plain": [
       "<Figure size 500x500 with 1 Axes>"
      ]
     },
     "metadata": {},
     "output_type": "display_data"
    }
   ],
   "source": [
    "sns.catplot(data=teams.loc[ teams['NextLevel'] == 1  ], kind=\"bar\",  x= \"Rating\" ,y=\"Team\")"
   ]
  },
  {
   "cell_type": "code",
   "execution_count": 24,
   "id": "1049cc7a",
   "metadata": {},
   "outputs": [
    {
     "data": {
      "text/plain": [
       "<seaborn.axisgrid.FacetGrid at 0x19755f36760>"
      ]
     },
     "execution_count": 24,
     "metadata": {},
     "output_type": "execute_result"
    },
    {
     "data": {
      "image/png": "[encoded data removed]",
      "text/plain": [
       "<Figure size 500x500 with 1 Axes>"
      ]
     },
     "metadata": {},
     "output_type": "display_data"
    }
   ],
   "source": [
    "# let see how teams are playing. It looks like we had all kinds of matches. From the teams which are almost on the same level \n",
    "# but also teams with huge gap \n",
    "elo_rating['Difference'] = abs(elo_rating['Rating A'] - elo_rating['Rating B'])\n",
    "elo_rating['Match'] =  elo_rating.apply(lambda x:'%s - %s' % (x['Team A'],x['Team B']),axis=1)\n",
    "sns.catplot(data=elo_rating,  kind=\"bar\",  x= \"Difference\" ,y=\"Match\", order=elo_rating.sort_values('Difference').Match)"
   ]
  },
  {
   "cell_type": "code",
   "execution_count": 25,
   "id": "e2531aac",
   "metadata": {},
   "outputs": [],
   "source": [
    "# As prediction in elo rating shows only the percange of rating o winning. I set up that between\n",
    "# 45% and 55% is considered as DRAFT\n",
    "def set_result(percentage: int) -> str:\n",
    "    result: str = 'A'\n",
    "    if percentage < 45:\n",
    "        result = 'B'\n",
    "    elif percentage >= 45 and percentage <= 55:\n",
    "        result = 'D'\n",
    "    return result\n",
    "        "
   ]
  },
  {
   "cell_type": "code",
   "execution_count": 26,
   "id": "a11bce26",
   "metadata": {},
   "outputs": [],
   "source": [
    "elo_rating['Predicted Result'] =   elo_rating[\"Wininng A\"].apply(set_result)"
   ]
  },
  {
   "cell_type": "code",
   "execution_count": 27,
   "id": "7b57e9cb",
   "metadata": {},
   "outputs": [],
   "source": [
    "# comparing prediction with result. Set up 1.00 if prediction was sucessfull, 0.25 if there was\n",
    "# draft in prediction, but one team one or other way\n",
    "def compare_prediction_with_result(pred: str, res: str) -> float:\n",
    "    point: float = 0\n",
    "    if pred == res:\n",
    "        point = 1 \n",
    "    elif (pred == \"A\" and res == \"D\") or (pred == \"B\" and res == \"D\") or (pred == \"D\" and res == \"A\") or (pred == \"D\" and res == \"B\"):\n",
    "        point = 0.5\n",
    "    return point"
   ]
  },
  {
   "cell_type": "code",
   "execution_count": 28,
   "id": "70d59c0d",
   "metadata": {},
   "outputs": [],
   "source": [
    "elo_rating['Check'] = elo_rating.apply(lambda x: compare_prediction_with_result(x['Predicted Result'], x['Result']), axis=1 )"
   ]
  },
  {
   "cell_type": "code",
   "execution_count": 29,
   "id": "5cee7777",
   "metadata": {},
   "outputs": [],
   "source": [
    "# Lets map \n",
    "elo_rating['CheckDesc']  = elo_rating['Check'].map( {1: 'Success', 0.5:'Partial', 0: 'Failed'} ).astype(str)"
   ]
  },
  {
   "cell_type": "code",
   "execution_count": 30,
   "id": "4a89f9db",
   "metadata": {},
   "outputs": [],
   "source": [
    "pred_Check = elo_rating[['CheckDesc']].value_counts()\n",
    "#out of 48 matches 27 were predicted succesfully "
   ]
  },
  {
   "cell_type": "code",
   "execution_count": 31,
   "id": "03b8ef3c",
   "metadata": {},
   "outputs": [
    {
     "name": "stdout",
     "output_type": "stream",
     "text": [
      "CheckDesc\n",
      "Success      27\n",
      "Failed       11\n",
      "Partial      10\n",
      "dtype: int64\n"
     ]
    },
    {
     "data": {
      "image/png": "[encoded data removed]",
      "text/plain": [
       "<Figure size 640x480 with 1 Axes>"
      ]
     },
     "metadata": {},
     "output_type": "display_data"
    }
   ],
   "source": [
    "print(pred_Check)\n",
    "colors = sns.color_palette('bright')\n",
    "plt.pie(pred_Check,labels=pred_Check.index, colors = colors)\n",
    "plt.show()"
   ]
  },
  {
   "cell_type": "code",
   "execution_count": 32,
   "id": "b5b20f10",
   "metadata": {},
   "outputs": [],
   "source": [
    "# It looks like elo rating was sucessfull in 27 matches on 48 total games. Partially successull\n",
    "# in 11 matches."
   ]
  },
  {
   "cell_type": "code",
   "execution_count": 33,
   "id": "7cdca4d7",
   "metadata": {},
   "outputs": [
    {
     "name": "stdout",
     "output_type": "stream",
     "text": [
      "Round 1\n",
      "CheckDesc\n",
      "Success      11\n",
      "Partial       3\n",
      "Failed        2\n",
      "dtype: int64\n"
     ]
    },
    {
     "data": {
      "image/png": "[encoded data removed]",
      "text/plain": [
       "<Figure size 640x480 with 1 Axes>"
      ]
     },
     "metadata": {},
     "output_type": "display_data"
    },
    {
     "name": "stdout",
     "output_type": "stream",
     "text": [
      "Round 2\n",
      "CheckDesc\n",
      "Success      7\n",
      "Partial      6\n",
      "Failed       3\n",
      "dtype: int64\n"
     ]
    },
    {
     "data": {
      "image/png": "[encoded data removed]",
      "text/plain": [
       "<Figure size 640x480 with 1 Axes>"
      ]
     },
     "metadata": {},
     "output_type": "display_data"
    },
    {
     "name": "stdout",
     "output_type": "stream",
     "text": [
      "Round 3\n",
      "CheckDesc\n",
      "Success      9\n",
      "Failed       6\n",
      "Partial      1\n",
      "dtype: int64\n"
     ]
    },
    {
     "data": {
      "image/png": "[encoded data removed]",
      "text/plain": [
       "<Figure size 640x480 with 1 Axes>"
      ]
     },
     "metadata": {},
     "output_type": "display_data"
    }
   ],
   "source": [
    "# Lets check how prediction went during each round\n",
    "for i in range(1, 4):\n",
    "    pred_Check_Round = elo_rating[['CheckDesc']].loc[elo_rating['Round '] == i].value_counts()\n",
    "    print(f\"Round {i}\")\n",
    "    print(elo_rating[['CheckDesc']].loc[elo_rating['Round '] == i].value_counts())\n",
    "    plt.pie(pred_Check_Round,labels=pred_Check_Round.index, colors = colors)\n",
    "    plt.show()\n",
    "    "
   ]
  },
  {
   "cell_type": "code",
   "execution_count": null,
   "id": "6d1e2140",
   "metadata": {},
   "outputs": [],
   "source": [
    "# It looks like the best prediction was for round 1. For 16 games elo rating sucessfully predicted 11, \n",
    "# 3 games were partially predicted and only 2 totally wrong. It was Germany vs Japan \n",
    "# and Argenting vs Saudi Arabia. In both cases difference between teams are huge. Based only \n",
    "# on elo rating there is no chance to predict such result    "
   ]
  },
  {
   "cell_type": "code",
   "execution_count": 34,
   "id": "e90d8610",
   "metadata": {},
   "outputs": [
    {
     "name": "stdout",
     "output_type": "stream",
     "text": [
      "CheckDesc\n",
      "Success      4\n",
      "Partial      1\n",
      "dtype: int64\n"
     ]
    },
    {
     "data": {
      "image/png": "[encoded data removed]",
      "text/plain": [
       "<Figure size 640x480 with 1 Axes>"
      ]
     },
     "metadata": {},
     "output_type": "display_data"
    }
   ],
   "source": [
    "# check prediction on the same region\n",
    "pred_the_same_region = elo_rating[['CheckDesc']].loc[elo_rating['Region A'] == elo_rating['Region B']].value_counts()\n",
    "print(pred_the_same_region)\n",
    "plt.pie(pred_the_same_region,labels=pred_the_same_region.index, colors = colors)\n",
    "plt.show()"
   ]
  },
  {
   "cell_type": "code",
   "execution_count": 35,
   "id": "8e5687fa",
   "metadata": {},
   "outputs": [
    {
     "data": {
      "text/html": [
       "<div>\n",
       "<style scoped>\n",
       "    .dataframe tbody tr th:only-of-type {\n",
       "        vertical-align: middle;\n",
       "    }\n",
       "\n",
       "    .dataframe tbody tr th {\n",
       "        vertical-align: top;\n",
       "    }\n",
       "\n",
       "    .dataframe thead th {\n",
       "        text-align: right;\n",
       "    }\n",
       "</style>\n",
       "<table border=\"1\" class=\"dataframe\">\n",
       "  <thead>\n",
       "    <tr style=\"text-align: right;\">\n",
       "      <th></th>\n",
       "      <th>Team A</th>\n",
       "      <th>Region A</th>\n",
       "      <th>Team B</th>\n",
       "      <th>Region B</th>\n",
       "      <th>Rank A</th>\n",
       "      <th>Rank B</th>\n",
       "      <th>Rating A</th>\n",
       "      <th>Rating B</th>\n",
       "      <th>Wininng A</th>\n",
       "      <th>Wininng  B</th>\n",
       "      <th>...</th>\n",
       "      <th>Goal B</th>\n",
       "      <th>Advancment A</th>\n",
       "      <th>Go home A</th>\n",
       "      <th>Advancment B</th>\n",
       "      <th>Go home B</th>\n",
       "      <th>Difference</th>\n",
       "      <th>Match</th>\n",
       "      <th>Predicted Result</th>\n",
       "      <th>Check</th>\n",
       "      <th>CheckDesc</th>\n",
       "    </tr>\n",
       "  </thead>\n",
       "  <tbody>\n",
       "    <tr>\n",
       "      <th>38</th>\n",
       "      <td>France</td>\n",
       "      <td>UEFA</td>\n",
       "      <td>Tunisia</td>\n",
       "      <td>CAF</td>\n",
       "      <td>4</td>\n",
       "      <td>43</td>\n",
       "      <td>2046</td>\n",
       "      <td>1694</td>\n",
       "      <td>88</td>\n",
       "      <td>12</td>\n",
       "      <td>...</td>\n",
       "      <td>1</td>\n",
       "      <td>1</td>\n",
       "      <td>0</td>\n",
       "      <td>0</td>\n",
       "      <td>0</td>\n",
       "      <td>352</td>\n",
       "      <td>France  - Tunisia</td>\n",
       "      <td>A</td>\n",
       "      <td>0.0</td>\n",
       "      <td>Failed</td>\n",
       "    </tr>\n",
       "    <tr>\n",
       "      <th>44</th>\n",
       "      <td>Brazil</td>\n",
       "      <td>CONMEBOL</td>\n",
       "      <td>Cameroon</td>\n",
       "      <td>CAF</td>\n",
       "      <td>1</td>\n",
       "      <td>55</td>\n",
       "      <td>2195</td>\n",
       "      <td>1621</td>\n",
       "      <td>96</td>\n",
       "      <td>4</td>\n",
       "      <td>...</td>\n",
       "      <td>1</td>\n",
       "      <td>1</td>\n",
       "      <td>0</td>\n",
       "      <td>0</td>\n",
       "      <td>0</td>\n",
       "      <td>574</td>\n",
       "      <td>Brazil  - Cameroon</td>\n",
       "      <td>A</td>\n",
       "      <td>0.0</td>\n",
       "      <td>Failed</td>\n",
       "    </tr>\n",
       "    <tr>\n",
       "      <th>46</th>\n",
       "      <td>Portugal</td>\n",
       "      <td>UEFA</td>\n",
       "      <td>South Korea</td>\n",
       "      <td>AFC</td>\n",
       "      <td>6</td>\n",
       "      <td>34</td>\n",
       "      <td>2010</td>\n",
       "      <td>1750</td>\n",
       "      <td>82</td>\n",
       "      <td>18</td>\n",
       "      <td>...</td>\n",
       "      <td>2</td>\n",
       "      <td>1</td>\n",
       "      <td>0</td>\n",
       "      <td>0</td>\n",
       "      <td>0</td>\n",
       "      <td>260</td>\n",
       "      <td>Portugal - South Korea</td>\n",
       "      <td>A</td>\n",
       "      <td>0.0</td>\n",
       "      <td>Failed</td>\n",
       "    </tr>\n",
       "  </tbody>\n",
       "</table>\n",
       "<p>3 rows × 23 columns</p>\n",
       "</div>"
      ],
      "text/plain": [
       "      Team A  Region A       Team B Region B  Rank A  Rank B  Rating A  \\\n",
       "38   France       UEFA      Tunisia      CAF       4      43      2046   \n",
       "44   Brazil   CONMEBOL     Cameroon      CAF       1      55      2195   \n",
       "46  Portugal      UEFA  South Korea      AFC       6      34      2010   \n",
       "\n",
       "    Rating B  Wininng A  Wininng  B  ...  Goal B Advancment A  Go home A  \\\n",
       "38      1694         88          12  ...       1            1          0   \n",
       "44      1621         96           4  ...       1            1          0   \n",
       "46      1750         82          18  ...       2            1          0   \n",
       "\n",
       "    Advancment B  Go home B  Difference                   Match  \\\n",
       "38             0          0         352       France  - Tunisia   \n",
       "44             0          0         574      Brazil  - Cameroon   \n",
       "46             0          0         260  Portugal - South Korea   \n",
       "\n",
       "    Predicted Result  Check CheckDesc  \n",
       "38                 A    0.0    Failed  \n",
       "44                 A    0.0    Failed  \n",
       "46                 A    0.0    Failed  \n",
       "\n",
       "[3 rows x 23 columns]"
      ]
     },
     "execution_count": 35,
     "metadata": {},
     "output_type": "execute_result"
    }
   ],
   "source": [
    "# In the third round there were teams which already qualified to the next round. \n",
    "# Lets see if this influended on the results\n",
    "advancment_3round = elo_rating.loc[( elo_rating['Advancment A'] == 1 ) | ( elo_rating['Advancment B'] == 1 )  ]\n",
    "advancment_3round.head(5)"
   ]
  },
  {
   "cell_type": "code",
   "execution_count": 36,
   "id": "5e191a84",
   "metadata": {},
   "outputs": [
    {
     "name": "stdout",
     "output_type": "stream",
     "text": [
      "CheckDesc\n",
      "Failed       3\n",
      "dtype: int64\n"
     ]
    },
    {
     "data": {
      "image/png": "[encoded data removed]",
      "text/plain": [
       "<Figure size 640x480 with 1 Axes>"
      ]
     },
     "metadata": {},
     "output_type": "display_data"
    }
   ],
   "source": [
    "#predictions failed even differences are huge \n",
    "advancment_3round_r = advancment_3round[['CheckDesc']].value_counts()\n",
    "print(advancment_3round_r)\n",
    "plt.pie(advancment_3round_r,labels=advancment_3round_r.index, colors = colors)\n",
    "plt.show()"
   ]
  },
  {
   "cell_type": "raw",
   "id": "3946eea8",
   "metadata": {},
   "source": [
    "Teams which were sure they play in 1/8 lost their last matches in the group stage"
   ]
  },
  {
   "cell_type": "raw",
   "id": "c375c435",
   "metadata": {},
   "source": [
    "# Summarization\n",
    "\n",
    "Predictions based only on elo system gives fair results. It foreseen 27 matches \n",
    "on total 48 games. First round gives the best results as there was not additional\n",
    "indicators like wining or going home. \n",
    "It aslo gives very good results if team are from the same confederation ( as most matches\n",
    "are played in continet)\n",
    "In round 3 there were three teams which already ensured qualfication to the \n",
    "next round. Even if there was huge difference they lost last games in group \n",
    "There were couple of suprises like Saudi Arabia wining with Argentina or Geremany\n",
    "loosing with Japan, but from statistic perspecitve there was not possible to predict this one\n",
    "\n",
    "For more inspiration in mathematican modeling of futbol:\n",
    "https://www.goodreads.com/book/show/26073086-soccermatics\n",
    "https://www.youtube.com/watch?v=AqDxrj8K480\n"
   ]
  },
  {
   "cell_type": "code",
   "execution_count": null,
   "id": "a3f9f53f",
   "metadata": {},
   "outputs": [],
   "source": []
  }
 ],
 "metadata": {
  "kernelspec": {
   "display_name": "Python 3 (ipykernel)",
   "language": "python",
   "name": "python3"
  },
  "language_info": {
   "codemirror_mode": {
    "name": "ipython",
    "version": 3
   },
   "file_extension": ".py",
   "mimetype": "text/x-python",
   "name": "python",
   "nbconvert_exporter": "python",
   "pygments_lexer": "ipython3",
   "version": "3.9.12"
  }
 },
 "nbformat": 4,
 "nbformat_minor": 5
}
