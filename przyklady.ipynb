{
  "nbformat": 4,
  "nbformat_minor": 0,
  "metadata": {
    "colab": {
      "provenance": [],
      "authorship_tag": "ABX9TyORk2n7YWJwDCizbwUi2mH1",
      "include_colab_link": true
    },
    "kernelspec": {
      "name": "python3",
      "display_name": "Python 3"
    },
    "language_info": {
      "name": "python"
    }
  },
  "cells": [
    {
      "cell_type": "markdown",
      "metadata": {
        "id": "view-in-github",
        "colab_type": "text"
      },
      "source": [
        "<a href=\"https://colab.research.google.com/github/maaciekz/Football/blob/main/przyklady.ipynb\" target=\"_parent\"><img src=\"https://colab.research.google.com/assets/colab-badge.svg\" alt=\"Open In Colab\"/></a>"
      ]
    },
    {
      "cell_type": "code",
      "execution_count": null,
      "metadata": {
        "id": "w_x8FGtiBXMN"
      },
      "outputs": [],
      "source": [
        "def calculate_balance(balance, annualInterestRate, monthlyPaymentRate, month ):\n",
        "    monthly_rate = annualInterestRate / 12\n",
        "    minimum_payment = balance * monthlyPaymentRate\n",
        "    unpaid_balance = balance - minimum_payment\n",
        "    updated_balance = unpaid_balance + (unpaid_balance * monthly_rate)\n",
        "    if month == 12:\n",
        "      return updated_balance\n",
        "    else:\n",
        "      return calculate_balance(updated_balance, annualInterestRate, monthlyPaymentRate, month + 1 )"
      ]
    },
    {
      "cell_type": "code",
      "source": [
        "balance = 42\n",
        "annualInterestRate = 0.2\n",
        "monthlyPaymentRate = 0.04\n",
        "month = 1\n",
        "monthly_rate = annualInterestRate / 12\n",
        "updated_balance = balance\n",
        "while month <= 12:\n",
        "    minimum_payment = updated_balance * monthlyPaymentRate\n",
        "    unpaid_balance = updated_balance - minimum_payment\n",
        "    updated_balance = unpaid_balance + (unpaid_balance * monthly_rate)\n",
        "    month += 1\n",
        "print('Remaining balance:',  round(updated_balance ,2))"
      ],
      "metadata": {
        "colab": {
          "base_uri": "https://localhost:8080/"
        },
        "id": "pmTpZbxnNKLS",
        "outputId": "fd1c1e76-885b-48a5-81ac-67d8fce4ed3b"
      },
      "execution_count": null,
      "outputs": [
        {
          "output_type": "stream",
          "name": "stdout",
          "text": [
            "Remaining balance: 31.38\n"
          ]
        }
      ]
    },
    {
      "cell_type": "code",
      "source": [
        "print(calculate_balance(42, 0.2, 0.04, 1))"
      ],
      "metadata": {
        "colab": {
          "base_uri": "https://localhost:8080/"
        },
        "id": "kLjHebsWC8EI",
        "outputId": "def7b6ea-1116-4efd-98e8-30a65e92ca53"
      },
      "execution_count": null,
      "outputs": [
        {
          "output_type": "stream",
          "name": "stdout",
          "text": [
            "31.379578260339404\n"
          ]
        }
      ]
    },
    {
      "cell_type": "code",
      "source": [
        "\n",
        "a = 42 - ( )"
      ],
      "metadata": {
        "id": "lXZ_XXFnDWUg"
      },
      "execution_count": null,
      "outputs": []
    }
  ]
}